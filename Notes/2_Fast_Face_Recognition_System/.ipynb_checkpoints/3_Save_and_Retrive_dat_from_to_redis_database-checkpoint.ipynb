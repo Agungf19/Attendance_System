{
 "cells": [
  {
   "cell_type": "code",
   "execution_count": 1,
   "id": "1ac591c3-bdd5-475d-90aa-40ba67ae9a31",
   "metadata": {},
   "outputs": [],
   "source": [
    "import numpy as np\n",
    "import pandas as pd\n",
    "import redis"
   ]
  },
  {
   "cell_type": "code",
   "execution_count": 2,
   "id": "d9bff82c-7e04-4c28-b038-ee60a6d2c7ac",
   "metadata": {},
   "outputs": [],
   "source": [
    "# Connect to Redis Client\n",
    "hostname = 'redis-17822.c84.us-east-1-2.ec2.redns.redis-cloud.com'\n",
    "portnumber = 17822\n",
    "password = '3vTXanaK9N16iLKE1MusYAICy9u7eJbg'\n",
    "\n",
    "r = redis.StrictRedis(host=hostname, port=portnumber, password=password)"
   ]
  },
  {
   "cell_type": "code",
   "execution_count": 3,
   "id": "d8c70c3c-788f-4b78-942f-f8ccaeda0cae",
   "metadata": {},
   "outputs": [
    {
     "data": {
      "text/plain": [
       "True"
      ]
     },
     "execution_count": 3,
     "metadata": {},
     "output_type": "execute_result"
    }
   ],
   "source": [
    "r.ping()"
   ]
  },
  {
   "cell_type": "code",
   "execution_count": 4,
   "id": "8d429820-0144-4733-8e59-90b650edf03b",
   "metadata": {},
   "outputs": [
    {
     "data": {
      "text/plain": [
       "[b'academy:register']"
      ]
     },
     "execution_count": 4,
     "metadata": {},
     "output_type": "execute_result"
    }
   ],
   "source": [
    "r.keys()"
   ]
  },
  {
   "cell_type": "markdown",
   "id": "2581a518-b4ef-49ff-9677-d444beddbd46",
   "metadata": {},
   "source": [
    "### Load the data (numpy zip)"
   ]
  },
  {
   "cell_type": "code",
   "execution_count": 5,
   "id": "72560330-5940-4c68-810a-ad31f811d0d7",
   "metadata": {},
   "outputs": [
    {
     "data": {
      "text/html": [
       "<div>\n",
       "<style scoped>\n",
       "    .dataframe tbody tr th:only-of-type {\n",
       "        vertical-align: middle;\n",
       "    }\n",
       "\n",
       "    .dataframe tbody tr th {\n",
       "        vertical-align: top;\n",
       "    }\n",
       "\n",
       "    .dataframe thead th {\n",
       "        text-align: right;\n",
       "    }\n",
       "</style>\n",
       "<table border=\"1\" class=\"dataframe\">\n",
       "  <thead>\n",
       "    <tr style=\"text-align: right;\">\n",
       "      <th></th>\n",
       "      <th>Name</th>\n",
       "      <th>Role</th>\n",
       "      <th>Facial_Features</th>\n",
       "    </tr>\n",
       "  </thead>\n",
       "  <tbody>\n",
       "    <tr>\n",
       "      <th>0</th>\n",
       "      <td>Angelina Jolie</td>\n",
       "      <td>Student</td>\n",
       "      <td>[0.43240866661071775, 1.0746602058410644, -0.1...</td>\n",
       "    </tr>\n",
       "    <tr>\n",
       "      <th>1</th>\n",
       "      <td>Barack Obama</td>\n",
       "      <td>Teacher</td>\n",
       "      <td>[0.9487081527709961, -0.5583571434020996, 0.09...</td>\n",
       "    </tr>\n",
       "    <tr>\n",
       "      <th>2</th>\n",
       "      <td>Chris Evans</td>\n",
       "      <td>Student</td>\n",
       "      <td>[0.7200981616973877, -1.4685219764709472, -0.7...</td>\n",
       "    </tr>\n",
       "    <tr>\n",
       "      <th>3</th>\n",
       "      <td>Morgan Freeman</td>\n",
       "      <td>Teacher</td>\n",
       "      <td>[0.4854259490966797, -0.6193630218505859, -0.4...</td>\n",
       "    </tr>\n",
       "    <tr>\n",
       "      <th>4</th>\n",
       "      <td>Scarlett Johansson</td>\n",
       "      <td>Student</td>\n",
       "      <td>[0.19131546020507811, -0.48847036361694335, -1...</td>\n",
       "    </tr>\n",
       "  </tbody>\n",
       "</table>\n",
       "</div>"
      ],
      "text/plain": [
       "                 Name     Role  \\\n",
       "0      Angelina Jolie  Student   \n",
       "1        Barack Obama  Teacher   \n",
       "2         Chris Evans  Student   \n",
       "3      Morgan Freeman  Teacher   \n",
       "4  Scarlett Johansson  Student   \n",
       "\n",
       "                                     Facial_Features  \n",
       "0  [0.43240866661071775, 1.0746602058410644, -0.1...  \n",
       "1  [0.9487081527709961, -0.5583571434020996, 0.09...  \n",
       "2  [0.7200981616973877, -1.4685219764709472, -0.7...  \n",
       "3  [0.4854259490966797, -0.6193630218505859, -0.4...  \n",
       "4  [0.19131546020507811, -0.48847036361694335, -1...  "
      ]
     },
     "execution_count": 5,
     "metadata": {},
     "output_type": "execute_result"
    }
   ],
   "source": [
    "np_file = np.load('dataframe_students_teacher.npz', allow_pickle=True)\n",
    "x_values = np_file['arr_0']\n",
    "col_names = np_file['arr_1']\n",
    "\n",
    "df = pd.DataFrame(x_values, columns=col_names)\n",
    "df"
   ]
  },
  {
   "cell_type": "code",
   "execution_count": 6,
   "id": "9f938367-9c0b-4e81-a360-5a095816e1cc",
   "metadata": {},
   "outputs": [
    {
     "data": {
      "text/html": [
       "<div>\n",
       "<style scoped>\n",
       "    .dataframe tbody tr th:only-of-type {\n",
       "        vertical-align: middle;\n",
       "    }\n",
       "\n",
       "    .dataframe tbody tr th {\n",
       "        vertical-align: top;\n",
       "    }\n",
       "\n",
       "    .dataframe thead th {\n",
       "        text-align: right;\n",
       "    }\n",
       "</style>\n",
       "<table border=\"1\" class=\"dataframe\">\n",
       "  <thead>\n",
       "    <tr style=\"text-align: right;\">\n",
       "      <th></th>\n",
       "      <th>Name</th>\n",
       "      <th>Role</th>\n",
       "      <th>Facial_Features</th>\n",
       "      <th>name_role</th>\n",
       "    </tr>\n",
       "  </thead>\n",
       "  <tbody>\n",
       "    <tr>\n",
       "      <th>0</th>\n",
       "      <td>Angelina Jolie</td>\n",
       "      <td>Student</td>\n",
       "      <td>[0.43240866661071775, 1.0746602058410644, -0.1...</td>\n",
       "      <td>Angelina Jolie@Student</td>\n",
       "    </tr>\n",
       "    <tr>\n",
       "      <th>1</th>\n",
       "      <td>Barack Obama</td>\n",
       "      <td>Teacher</td>\n",
       "      <td>[0.9487081527709961, -0.5583571434020996, 0.09...</td>\n",
       "      <td>Barack Obama@Teacher</td>\n",
       "    </tr>\n",
       "    <tr>\n",
       "      <th>2</th>\n",
       "      <td>Chris Evans</td>\n",
       "      <td>Student</td>\n",
       "      <td>[0.7200981616973877, -1.4685219764709472, -0.7...</td>\n",
       "      <td>Chris Evans@Student</td>\n",
       "    </tr>\n",
       "    <tr>\n",
       "      <th>3</th>\n",
       "      <td>Morgan Freeman</td>\n",
       "      <td>Teacher</td>\n",
       "      <td>[0.4854259490966797, -0.6193630218505859, -0.4...</td>\n",
       "      <td>Morgan Freeman@Teacher</td>\n",
       "    </tr>\n",
       "    <tr>\n",
       "      <th>4</th>\n",
       "      <td>Scarlett Johansson</td>\n",
       "      <td>Student</td>\n",
       "      <td>[0.19131546020507811, -0.48847036361694335, -1...</td>\n",
       "      <td>Scarlett Johansson@Student</td>\n",
       "    </tr>\n",
       "  </tbody>\n",
       "</table>\n",
       "</div>"
      ],
      "text/plain": [
       "                 Name     Role  \\\n",
       "0      Angelina Jolie  Student   \n",
       "1        Barack Obama  Teacher   \n",
       "2         Chris Evans  Student   \n",
       "3      Morgan Freeman  Teacher   \n",
       "4  Scarlett Johansson  Student   \n",
       "\n",
       "                                     Facial_Features  \\\n",
       "0  [0.43240866661071775, 1.0746602058410644, -0.1...   \n",
       "1  [0.9487081527709961, -0.5583571434020996, 0.09...   \n",
       "2  [0.7200981616973877, -1.4685219764709472, -0.7...   \n",
       "3  [0.4854259490966797, -0.6193630218505859, -0.4...   \n",
       "4  [0.19131546020507811, -0.48847036361694335, -1...   \n",
       "\n",
       "                    name_role  \n",
       "0      Angelina Jolie@Student  \n",
       "1        Barack Obama@Teacher  \n",
       "2         Chris Evans@Student  \n",
       "3      Morgan Freeman@Teacher  \n",
       "4  Scarlett Johansson@Student  "
      ]
     },
     "execution_count": 6,
     "metadata": {},
     "output_type": "execute_result"
    }
   ],
   "source": [
    "df['name_role'] = df['Name']+'@'+df['Role']\n",
    "df"
   ]
  },
  {
   "cell_type": "code",
   "execution_count": 7,
   "id": "5199ab6d-fc9d-46d2-9dab-6ff68b1c992f",
   "metadata": {},
   "outputs": [
    {
     "data": {
      "text/plain": [
       "5"
      ]
     },
     "execution_count": 7,
     "metadata": {},
     "output_type": "execute_result"
    }
   ],
   "source": [
    "records = df[['name_role', 'Facial_Features']].to_dict(orient='records')\n",
    "len(records)"
   ]
  },
  {
   "cell_type": "markdown",
   "id": "9e82e881-faa6-492d-8bc7-772294eb7ef2",
   "metadata": {},
   "source": [
    "## Save data in Redis\n",
    "- Redis hashes\n",
    "- Keyname - 'academy:register'"
   ]
  },
  {
   "cell_type": "code",
   "execution_count": 8,
   "id": "a8bebedf-e5cf-4525-adfe-0fc429ba6759",
   "metadata": {},
   "outputs": [],
   "source": [
    "for record in records:\n",
    "    name_role = record['name_role']\n",
    "    vector = record['Facial_Features']\n",
    "   \n",
    "    # convert numpy array into bytes\n",
    "    vector_bytes = vector.tobytes()\n",
    "\n",
    "    # save data into redis cloud\n",
    "    r.hset(name='academy:register', key=name_role, value=vector_bytes)"
   ]
  },
  {
   "cell_type": "code",
   "execution_count": 9,
   "id": "b38c7812-7d13-4d00-91b7-a46b28e17cf2",
   "metadata": {},
   "outputs": [
    {
     "data": {
      "text/plain": [
       "dtype('float64')"
      ]
     },
     "execution_count": 9,
     "metadata": {},
     "output_type": "execute_result"
    }
   ],
   "source": [
    "vector.dtype"
   ]
  },
  {
   "cell_type": "markdown",
   "id": "f192decd-2724-4caf-a8b6-2efe81f338ee",
   "metadata": {},
   "source": [
    "### Retrive Records from Redis"
   ]
  },
  {
   "cell_type": "code",
   "execution_count": 10,
   "id": "829654eb-70a0-437b-b168-dd283de5eff3",
   "metadata": {},
   "outputs": [
    {
     "data": {
      "text/plain": [
       "b'Scarlett Johansson@Student'    b'ffff\\x06}\\xc8?3333\\x19C\\xdf\\xbf\\x9a\\x99\\x99\\...\n",
       "b'Barack Obama@Teacher'          b'3333\\xd1[\\xee?\\xcd\\xcc\\xcc\\xcc\\x0f\\xde\\xe1\\x...\n",
       "b'Agung@Student'                 b'fi\\xd1\\xbf\\x00h2\\xbf\\xee\\xa9\\x99?P\\x7f6\\xbdT...\n",
       "b'Friday@Teacher'                b'\\xa02p\\xbfz\\x1dy\\xbf\\xdc\\x81\\xac?\\xea\\xf9\\x1...\n",
       "b'Angelina Jolie@Student'        b'ffff\\x95\\xac\\xdb?fff\\xe6\\xce1\\xf1?3333xx\\xc0...\n",
       "b'Chris Evans@Student'           b'\\xcd\\xcc\\xccL\\x0b\\x0b\\xe7?fff\\xe6\\x10\\x7f\\xf...\n",
       "b'Morgan Freeman@Teacher'        b'\\x00\\x00\\x00\\x008\\x11\\xdf?ffff\\xd2\\xd1\\xe3\\x...\n",
       "dtype: object"
      ]
     },
     "execution_count": 10,
     "metadata": {},
     "output_type": "execute_result"
    }
   ],
   "source": [
    "retrive_dict = r.hgetall(name='academy:register')\n",
    "retrive_series = pd.Series(retrive_dict)\n",
    "retrive_series"
   ]
  },
  {
   "cell_type": "code",
   "execution_count": 11,
   "id": "ae1a0754-5dec-4a5e-b74b-3d45086e11d3",
   "metadata": {},
   "outputs": [],
   "source": [
    "#np.frombuffer(retrive_series[b'Morgan Freman@Teacher'],dtype=bp.float32).shape\n",
    "retrive_series = retrive_series.apply(lambda x: np.frombuffer(x,dtype=np.float32))\n",
    "index = retrive_series.index\n",
    "index = list(map(lambda x: x.decode(), index))"
   ]
  },
  {
   "cell_type": "code",
   "execution_count": 12,
   "id": "c437e6a0-4e77-4209-a8d7-ea8916d259a1",
   "metadata": {},
   "outputs": [],
   "source": [
    "retrive_series.index = index"
   ]
  },
  {
   "cell_type": "code",
   "execution_count": 13,
   "id": "1d3c258b-abf9-419f-aa44-2c131033d4a7",
   "metadata": {},
   "outputs": [
    {
     "data": {
      "text/html": [
       "<div>\n",
       "<style scoped>\n",
       "    .dataframe tbody tr th:only-of-type {\n",
       "        vertical-align: middle;\n",
       "    }\n",
       "\n",
       "    .dataframe tbody tr th {\n",
       "        vertical-align: top;\n",
       "    }\n",
       "\n",
       "    .dataframe thead th {\n",
       "        text-align: right;\n",
       "    }\n",
       "</style>\n",
       "<table border=\"1\" class=\"dataframe\">\n",
       "  <thead>\n",
       "    <tr style=\"text-align: right;\">\n",
       "      <th></th>\n",
       "      <th>name_role</th>\n",
       "      <th>facial_features</th>\n",
       "    </tr>\n",
       "  </thead>\n",
       "  <tbody>\n",
       "    <tr>\n",
       "      <th>0</th>\n",
       "      <td>Scarlett Johansson@Student</td>\n",
       "      <td>[2.720083e+23, 1.5663154, 4.172325e-08, -1.744...</td>\n",
       "    </tr>\n",
       "    <tr>\n",
       "      <th>1</th>\n",
       "      <td>Barack Obama@Teacher</td>\n",
       "      <td>[4.172325e-08, 1.862177, -107374184.0, -1.7645...</td>\n",
       "    </tr>\n",
       "    <tr>\n",
       "      <th>2</th>\n",
       "      <td>Agung@Student</td>\n",
       "      <td>[-1.636029, -0.6968994, 1.2004983, -0.04455501...</td>\n",
       "    </tr>\n",
       "    <tr>\n",
       "      <th>3</th>\n",
       "      <td>Friday@Teacher</td>\n",
       "      <td>[-0.9382725, -0.973106, 1.347713, 0.61709464, ...</td>\n",
       "    </tr>\n",
       "    <tr>\n",
       "      <th>4</th>\n",
       "      <td>Angelina Jolie@Student</td>\n",
       "      <td>[2.720083e+23, 1.7162043, -2.720083e+23, 1.884...</td>\n",
       "    </tr>\n",
       "    <tr>\n",
       "      <th>5</th>\n",
       "      <td>Chris Evans@Student</td>\n",
       "      <td>[107374184.0, 1.8050245, -2.720083e+23, -1.933...</td>\n",
       "    </tr>\n",
       "    <tr>\n",
       "      <th>6</th>\n",
       "      <td>Morgan Freeman@Teacher</td>\n",
       "      <td>[0.0, 1.742713, 2.720083e+23, -1.7798407, 2.72...</td>\n",
       "    </tr>\n",
       "  </tbody>\n",
       "</table>\n",
       "</div>"
      ],
      "text/plain": [
       "                    name_role  \\\n",
       "0  Scarlett Johansson@Student   \n",
       "1        Barack Obama@Teacher   \n",
       "2               Agung@Student   \n",
       "3              Friday@Teacher   \n",
       "4      Angelina Jolie@Student   \n",
       "5         Chris Evans@Student   \n",
       "6      Morgan Freeman@Teacher   \n",
       "\n",
       "                                     facial_features  \n",
       "0  [2.720083e+23, 1.5663154, 4.172325e-08, -1.744...  \n",
       "1  [4.172325e-08, 1.862177, -107374184.0, -1.7645...  \n",
       "2  [-1.636029, -0.6968994, 1.2004983, -0.04455501...  \n",
       "3  [-0.9382725, -0.973106, 1.347713, 0.61709464, ...  \n",
       "4  [2.720083e+23, 1.7162043, -2.720083e+23, 1.884...  \n",
       "5  [107374184.0, 1.8050245, -2.720083e+23, -1.933...  \n",
       "6  [0.0, 1.742713, 2.720083e+23, -1.7798407, 2.72...  "
      ]
     },
     "execution_count": 13,
     "metadata": {},
     "output_type": "execute_result"
    }
   ],
   "source": [
    "retrive_df = retrive_series.to_frame().reset_index()\n",
    "retrive_df.columns = ['name_role', 'facial_features']\n",
    "retrive_df"
   ]
  },
  {
   "cell_type": "markdown",
   "id": "6439492c-d3c7-4d04-a745-66a4d354cf2a",
   "metadata": {},
   "source": [
    "### Regitration Form"
   ]
  },
  {
   "cell_type": "code",
   "execution_count": 14,
   "id": "eddfb84a-4153-43ba-a19d-166525c1bf54",
   "metadata": {},
   "outputs": [
    {
     "name": "stderr",
     "output_type": "stream",
     "text": [
      "F:\\PYTHON\\Attendance_System\\Notes\\attendance_system\\lib\\site-packages\\albumentations\\check_version.py:51: UserWarning: Error fetching version info <urlopen error _ssl.c:1112: The handshake operation timed out>\n",
      "  data = fetch_version_info()\n"
     ]
    }
   ],
   "source": [
    "import cv2\n",
    "from insightface.app import FaceAnalysis"
   ]
  },
  {
   "cell_type": "code",
   "execution_count": 15,
   "id": "8f019b94-727b-480a-ab0d-6644578a27dd",
   "metadata": {},
   "outputs": [
    {
     "name": "stdout",
     "output_type": "stream",
     "text": [
      "Applied providers: ['CPUExecutionProvider'], with options: {'CPUExecutionProvider': {}}\n",
      "find model: insightface_model\\models\\buffalo_sc\\det_500m.onnx detection [1, 3, '?', '?'] 127.5 128.0\n",
      "Applied providers: ['CPUExecutionProvider'], with options: {'CPUExecutionProvider': {}}\n",
      "find model: insightface_model\\models\\buffalo_sc\\w600k_mbf.onnx recognition ['None', 3, 112, 112] 127.5 127.5\n",
      "set det-size: (640, 640)\n"
     ]
    }
   ],
   "source": [
    "# configure face analysis\n",
    "faceapp = FaceAnalysis(name='buffalo_sc', root='insightface_model', providers=['CPUExecutionProvider'])\n",
    "faceapp.prepare(ctx_id=0, det_size=(640, 640), det_thresh=0.5)\n",
    "# warning: don't set det_thresh < 0.3"
   ]
  },
  {
   "cell_type": "markdown",
   "id": "b0079c63-e3cd-4a59-8988-8eb03b087a2c",
   "metadata": {},
   "source": [
    "### Step-1: Collect Person and Role"
   ]
  },
  {
   "cell_type": "code",
   "execution_count": 16,
   "id": "99f832d8-0fb7-4aa5-9260-fd3251884a97",
   "metadata": {},
   "outputs": [
    {
     "name": "stdin",
     "output_type": "stream",
     "text": [
      "Enter Your Name:  Agung\n",
      "\n",
      "    PLease Choose\n",
      "    1. Stundent\n",
      "    2. Teacher\n",
      "    \n",
      "    Enter Number Either 1 or 2\n",
      "     2\n"
     ]
    },
    {
     "name": "stdout",
     "output_type": "stream",
     "text": [
      "Your name =  Agung\n",
      "Your role =  Teacher\n",
      "key = Agung@Teacher\n"
     ]
    }
   ],
   "source": [
    "# python input\n",
    "person_name = input('Enter Your Name: ')\n",
    "\n",
    "trials = 3\n",
    "for i in range(trials):\n",
    "    role = input(\"\"\"\n",
    "    PLease Choose\n",
    "    1. Stundent\n",
    "    2. Teacher\n",
    "    \n",
    "    Enter Number Either 1 or 2\n",
    "    \"\"\")\n",
    "\n",
    "    if role in ('1', '2'):\n",
    "        if role == '1':\n",
    "            role = 'Student'\n",
    "        else:\n",
    "            role = 'Teacher'\n",
    "        break\n",
    "    else:\n",
    "        print('Invalid Entry Try Again')\n",
    "        if i == 3:\n",
    "            print('Exceeds Maximum Trials')\n",
    "\n",
    "key = person_name +'@'+ role\n",
    "print('Your name = ', person_name)\n",
    "print('Your role = ', role)\n",
    "print('key =', key)"
   ]
  },
  {
   "cell_type": "code",
   "execution_count": 17,
   "id": "ff8df35e-3e90-4ff4-8896-fb48dd4e1d52",
   "metadata": {},
   "outputs": [
    {
     "data": {
      "text/plain": [
       "'Agung'"
      ]
     },
     "execution_count": 17,
     "metadata": {},
     "output_type": "execute_result"
    }
   ],
   "source": [
    "person_name"
   ]
  },
  {
   "cell_type": "markdown",
   "id": "687d29e2-8650-4eff-a7d1-0f805745b05f",
   "metadata": {},
   "source": [
    "### Step-2: Collect Samples"
   ]
  },
  {
   "cell_type": "code",
   "execution_count": 17,
   "id": "24b62041-c930-4ef9-8784-9d4034668ab4",
   "metadata": {},
   "outputs": [],
   "source": [
    "cap = cv2. VideoCapture(0) # 0 default camera, 1 external camera\n",
    "face_embeddings = []\n",
    "sample = 0\n",
    "while True:\n",
    "    ret, frame = cap.read()\n",
    "    if ret == False:\n",
    "        print('Unable to read camera')\n",
    "        break\n",
    "\n",
    "    # get results from insightface model\n",
    "    results = faceapp.get(frame, max_num=1)\n",
    "    for res in results:\n",
    "        sample += 1\n",
    "        x1, y1, x2, y2 = res['bbox'].astype(int)\n",
    "        cv2.rectangle(frame, (x1, y1), (x2, y2), (0,255,0), 1)\n",
    "\n",
    "    # facial features\n",
    "    embeddings = res['embedding']\n",
    "    face_embeddings.append(embeddings)\n",
    "\n",
    "    if sample >= 200:\n",
    "        break\n",
    "    \n",
    "    cv2.imshow('frame', frame)\n",
    "    if cv2.waitKey(1) == ord('q'): # this is trigger only when i press letter q (lowercase q) in may keyboard\n",
    "        break\n",
    "\n",
    "cap.release()\n",
    "cv2.destroyAllWindows()"
   ]
  },
  {
   "cell_type": "code",
   "execution_count": 18,
   "id": "3ee9c7ac-65df-4138-91fd-baf76cfd90cf",
   "metadata": {},
   "outputs": [
    {
     "data": {
      "text/plain": [
       "200"
      ]
     },
     "execution_count": 18,
     "metadata": {},
     "output_type": "execute_result"
    }
   ],
   "source": [
    "len(face_embeddings)"
   ]
  },
  {
   "cell_type": "markdown",
   "id": "8c42bf6b-9e35-49a3-a24d-586f61f505b3",
   "metadata": {},
   "source": [
    "### Step-3: Optimize Data & Save in Redis Database"
   ]
  },
  {
   "cell_type": "code",
   "execution_count": 31,
   "id": "7bd3cbe4-3d99-4d5a-818c-ae0126025932",
   "metadata": {},
   "outputs": [
    {
     "data": {
      "text/plain": [
       "(512,)"
      ]
     },
     "execution_count": 31,
     "metadata": {},
     "output_type": "execute_result"
    }
   ],
   "source": [
    "x_mean = np.asarray(face_embeddings).mean(axis=0)\n",
    "x_mean.shape"
   ]
  },
  {
   "cell_type": "code",
   "execution_count": 21,
   "id": "f8101953-4c6a-4464-80cd-853b6b7edcbf",
   "metadata": {},
   "outputs": [],
   "source": [
    "# convert into bytes\n",
    "x_mean_bytes = x_mean.tobytes()"
   ]
  },
  {
   "cell_type": "code",
   "execution_count": 22,
   "id": "4f1b5415-5273-4fb2-a0e2-a52ecea2afa9",
   "metadata": {},
   "outputs": [
    {
     "data": {
      "text/plain": [
       "1"
      ]
     },
     "execution_count": 22,
     "metadata": {},
     "output_type": "execute_result"
    }
   ],
   "source": [
    "# save key and facial bytes into redis database\n",
    "r.hset(name='academy:register', key=key, value=x_mean_bytes)"
   ]
  }
 ],
 "metadata": {
  "kernelspec": {
   "display_name": "Python 3 (ipykernel)",
   "language": "python",
   "name": "python3"
  },
  "language_info": {
   "codemirror_mode": {
    "name": "ipython",
    "version": 3
   },
   "file_extension": ".py",
   "mimetype": "text/x-python",
   "name": "python",
   "nbconvert_exporter": "python",
   "pygments_lexer": "ipython3",
   "version": "3.9.12"
  },
  "widgets": {
   "application/vnd.jupyter.widget-state+json": {
    "state": {},
    "version_major": 2,
    "version_minor": 0
   }
  }
 },
 "nbformat": 4,
 "nbformat_minor": 5
}
