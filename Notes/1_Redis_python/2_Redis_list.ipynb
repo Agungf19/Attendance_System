{
 "cells": [
  {
   "cell_type": "markdown",
   "id": "6b6f158f-d930-47eb-9c7a-b1ac2aafb37e",
   "metadata": {},
   "source": [
    "# Redis List"
   ]
  },
  {
   "cell_type": "code",
   "execution_count": 2,
   "id": "6755ba5e-044c-471c-8cf3-c6b815346451",
   "metadata": {},
   "outputs": [],
   "source": [
    "import redis"
   ]
  },
  {
   "cell_type": "code",
   "execution_count": 6,
   "id": "7b7303e9-69b3-449b-9fa7-f4b5c63a24fd",
   "metadata": {},
   "outputs": [],
   "source": [
    "hostname = 'redis-19612.c99.us-east-1-4.ec2.redns.redis-cloud.com'\n",
    "port = 19612\n",
    "password = '4ITKKFDGPIt3uJXvlEvA8NAqHZjdVJ7S'\n",
    "\n",
    "r = redis.Redis(host=hostname, port=port, password=password, decode_responses=True)"
   ]
  },
  {
   "cell_type": "code",
   "execution_count": 7,
   "id": "c691d736-41ca-44b4-973e-6a0e75d1f108",
   "metadata": {},
   "outputs": [
    {
     "data": {
      "text/plain": [
       "True"
      ]
     },
     "execution_count": 7,
     "metadata": {},
     "output_type": "execute_result"
    }
   ],
   "source": [
    "r.ping()"
   ]
  },
  {
   "cell_type": "markdown",
   "id": "e2040693-e062-4392-83f3-a19ec87e9f13",
   "metadata": {},
   "source": [
    "### Create a Redis List"
   ]
  },
  {
   "cell_type": "code",
   "execution_count": 16,
   "id": "e86758e9-0952-47c3-9130-2e880b1d5c2c",
   "metadata": {},
   "outputs": [
    {
     "data": {
      "text/plain": [
       "4"
      ]
     },
     "execution_count": 16,
     "metadata": {},
     "output_type": "execute_result"
    }
   ],
   "source": [
    "r.lpush('mylist', 'values_1') # this will create list with name mylist and with value value_1"
   ]
  },
  {
   "cell_type": "code",
   "execution_count": 18,
   "id": "7199761b-3fe8-4756-a8c2-a834410be61a",
   "metadata": {},
   "outputs": [
    {
     "data": {
      "text/plain": [
       "'values_1'"
      ]
     },
     "execution_count": 18,
     "metadata": {},
     "output_type": "execute_result"
    }
   ],
   "source": [
    "# retrive lindex, lrage\n",
    "r.lindex(name='mylist', index=0) #this will return value in zero index"
   ]
  },
  {
   "cell_type": "code",
   "execution_count": 19,
   "id": "7d9e545c-840c-4bdc-8952-1b99b30bf77d",
   "metadata": {},
   "outputs": [
    {
     "data": {
      "text/plain": [
       "['values_1']"
      ]
     },
     "execution_count": 19,
     "metadata": {},
     "output_type": "execute_result"
    }
   ],
   "source": [
    "r.lrange(name='mylist', start=0, end=0) # this command will return all values in the given range"
   ]
  },
  {
   "cell_type": "code",
   "execution_count": 31,
   "id": "5efbadf4-c235-493f-a471-e502f6d766b3",
   "metadata": {},
   "outputs": [
    {
     "data": {
      "text/plain": [
       "10"
      ]
     },
     "execution_count": 31,
     "metadata": {},
     "output_type": "execute_result"
    }
   ],
   "source": [
    "r.lpush('mylist', 'value_2') # push value always from left side"
   ]
  },
  {
   "cell_type": "code",
   "execution_count": 30,
   "id": "82ae565f-71eb-40d1-b7a7-d283cd5f8b73",
   "metadata": {},
   "outputs": [
    {
     "data": {
      "text/plain": [
       "['value_1',\n",
       " 'value_3',\n",
       " 'value_2',\n",
       " 'value_2',\n",
       " 'values_1',\n",
       " 'values_1',\n",
       " 'values_1',\n",
       " 'values_1',\n",
       " 'value_2']"
      ]
     },
     "execution_count": 30,
     "metadata": {},
     "output_type": "execute_result"
    }
   ],
   "source": [
    "r.lrange('mylist', 0,-1)"
   ]
  },
  {
   "cell_type": "code",
   "execution_count": 32,
   "id": "75ad8a4a-e527-488f-9677-a9a92a8987e5",
   "metadata": {},
   "outputs": [
    {
     "data": {
      "text/plain": [
       "12"
      ]
     },
     "execution_count": 32,
     "metadata": {},
     "output_type": "execute_result"
    }
   ],
   "source": [
    "# r push\n",
    "# push the value from right side\n",
    "r.rpush('mylist', 'value_3', 'values_4')"
   ]
  },
  {
   "cell_type": "code",
   "execution_count": 33,
   "id": "c386e2ea-a125-462b-98f0-a4958afa2791",
   "metadata": {},
   "outputs": [
    {
     "data": {
      "text/plain": [
       "['value_2',\n",
       " 'value_1',\n",
       " 'value_3',\n",
       " 'value_2',\n",
       " 'value_2',\n",
       " 'values_1',\n",
       " 'values_1',\n",
       " 'values_1',\n",
       " 'values_1',\n",
       " 'value_2',\n",
       " 'value_3',\n",
       " 'values_4']"
      ]
     },
     "execution_count": 33,
     "metadata": {},
     "output_type": "execute_result"
    }
   ],
   "source": [
    "r.lrange('mylist', 0, -1)"
   ]
  },
  {
   "cell_type": "code",
   "execution_count": null,
   "id": "708c6105-5a94-443c-b5f9-f16f1d4048f1",
   "metadata": {},
   "outputs": [],
   "source": []
  }
 ],
 "metadata": {
  "kernelspec": {
   "display_name": "Python 3 (ipykernel)",
   "language": "python",
   "name": "python3"
  },
  "language_info": {
   "codemirror_mode": {
    "name": "ipython",
    "version": 3
   },
   "file_extension": ".py",
   "mimetype": "text/x-python",
   "name": "python",
   "nbconvert_exporter": "python",
   "pygments_lexer": "ipython3",
   "version": "3.9.12"
  },
  "widgets": {
   "application/vnd.jupyter.widget-state+json": {
    "state": {},
    "version_major": 2,
    "version_minor": 0
   }
  }
 },
 "nbformat": 4,
 "nbformat_minor": 5
}
