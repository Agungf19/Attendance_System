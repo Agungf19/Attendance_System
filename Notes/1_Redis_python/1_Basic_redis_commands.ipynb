{
 "cells": [
  {
   "cell_type": "code",
   "execution_count": 16,
   "id": "7757c3c0-c2f3-45fa-9136-8d4b9e03b9cc",
   "metadata": {},
   "outputs": [],
   "source": [
    "import redis"
   ]
  },
  {
   "cell_type": "code",
   "execution_count": 22,
   "id": "9a1f768c-1297-4455-9758-8648319c61f5",
   "metadata": {},
   "outputs": [],
   "source": [
    "hostname = 'redis-19612.c99.us-east-1-4.ec2.redns.redis-cloud.com'\n",
    "port = 19612\n",
    "password = '4ITKKFDGPIt3uJXvlEvA8NAqHZjdVJ7S'\n",
    "\n",
    "r = redis.Redis(host=hostname, port=port, decode_responses=True)"
   ]
  },
  {
   "cell_type": "markdown",
   "id": "43108f75-7d78-4ca8-84d7-c84f4bdb1eea",
   "metadata": {},
   "source": [
    "## Redis Strings\n",
    "- set\n",
    "- get"
   ]
  },
  {
   "cell_type": "code",
   "execution_count": 24,
   "id": "ae11fbe9-a15d-42c4-bc44-f594fac2eb2b",
   "metadata": {},
   "outputs": [
    {
     "data": {
      "text/plain": [
       "True"
      ]
     },
     "execution_count": 24,
     "metadata": {},
     "output_type": "execute_result"
    }
   ],
   "source": [
    "r.set('foo', 'bar')"
   ]
  },
  {
   "cell_type": "code",
   "execution_count": 25,
   "id": "27473a4b-f6a5-4896-b31e-5e0d2b81df0a",
   "metadata": {},
   "outputs": [
    {
     "data": {
      "text/plain": [
       "b'bar'"
      ]
     },
     "execution_count": 25,
     "metadata": {},
     "output_type": "execute_result"
    }
   ],
   "source": [
    "r.get('foo')"
   ]
  },
  {
   "cell_type": "code",
   "execution_count": 27,
   "id": "fcc15f88-8cf9-4966-817a-ea8590d922ad",
   "metadata": {},
   "outputs": [
    {
     "data": {
      "text/plain": [
       "[b'KEY',\n",
       " b'HO',\n",
       " b'MSG',\n",
       " b'key',\n",
       " b'message',\n",
       " b'hi',\n",
       " b'H',\n",
       " b'HE',\n",
       " b'HI',\n",
       " b'foo',\n",
       " b'MESSAGE']"
      ]
     },
     "execution_count": 27,
     "metadata": {},
     "output_type": "execute_result"
    }
   ],
   "source": [
    "r.keys()"
   ]
  },
  {
   "cell_type": "code",
   "execution_count": null,
   "id": "ec3095d0-c5a6-4a0f-b3a4-4f4699a77941",
   "metadata": {},
   "outputs": [],
   "source": []
  }
 ],
 "metadata": {
  "kernelspec": {
   "display_name": "Python 3 (ipykernel)",
   "language": "python",
   "name": "python3"
  },
  "language_info": {
   "codemirror_mode": {
    "name": "ipython",
    "version": 3
   },
   "file_extension": ".py",
   "mimetype": "text/x-python",
   "name": "python",
   "nbconvert_exporter": "python",
   "pygments_lexer": "ipython3",
   "version": "3.9.12"
  },
  "widgets": {
   "application/vnd.jupyter.widget-state+json": {
    "state": {},
    "version_major": 2,
    "version_minor": 0
   }
  }
 },
 "nbformat": 4,
 "nbformat_minor": 5
}
